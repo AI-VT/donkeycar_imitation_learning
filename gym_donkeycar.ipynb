{
 "cells": [
  {
   "cell_type": "code",
   "execution_count": null,
   "id": "464437ad",
   "metadata": {},
   "outputs": [],
   "source": [
    "# ==============================================================================\n",
    "# IMPORTS AND GLOBAL VARIABLES\n",
    "# ==============================================================================\n",
    "\n",
    "from pynput import keyboard\n",
    "from stable_baselines3 import PPO\n",
    "from imitation.algorithms import bc\n",
    "from imitation.data.types import Trajectory\n",
    "from imitation.data import serialize\n",
    "from donkey_env_lidar import DonkeyEnvLidar\n",
    "from stable_baselines3.common.policies import ActorCriticPolicy\n",
    "import numpy as np, torch, yaml\n",
    "\n",
    "# MAIN VARIABLES YOU MIGHT WANT TO EDIT\n",
    "PATH_TO_SIMULATOR_EXECUTABLE = \"/home/animated/Projects/donkeycar/DonkeySimLinux/donkey_sim.x86_64\"\n",
    "IMITATION_LEARNING_DATASET_PATH = \"imitation_learning_datasets/imitation_training_data4\"\n",
    "IMITATION_LEARNING_MODEL_PATH = \"imitation_learning_models/imitation_learning4.zip\"\n",
    "\n",
    "# to learn more about what you can change here, please see: https://stable-baselines3.readthedocs.io/en/master/guide/custom_policy.html\n",
    "# keywords include \"net_arch\", \"activation_fn\", \"features_extractor_class\", \"features_extractor_kwargs\", etc etc etc\n",
    "POLICY_KEYWORD_ARGUMENTS = {\"net_arch\": [32, 32]}\n",
    "\n",
    "\n",
    "\n",
    "# VARIABLES THAT PERTAIN TO VARIOUS SIMULATION CONFIGS. FOR THE MOST PART, YOU SHOULDN'T NEED TO TOUCH THIS\n",
    "TRACK_NAME = \"mini_monaco\"\n",
    "DONKEYCAR_SIMULATION_CONFIG = {\n",
    "    \"port\": 9091,\n",
    "    \"max_cte\": 8,\n",
    "    \"lidar_config\": { \n",
    "        \"deg_per_sweep_inc\": 1.0\n",
    "    }\n",
    "}"
   ]
  },
  {
   "cell_type": "code",
   "execution_count": 16,
   "id": "89fd2cb6",
   "metadata": {},
   "outputs": [],
   "source": [
    "# ==============================================================================\n",
    "# KEYBOARD CALLBACKS\n",
    "# ==============================================================================\n",
    "\n",
    "keyboard_throttle_command = 0.\n",
    "keyboard_steering_command = 0.\n",
    "\n",
    "def keyboard_press_callback(key: keyboard.KeyCode):\n",
    "    global keyboard_steering_command, keyboard_throttle_command\n",
    "    try:\n",
    "        if key.char == \"d\":\n",
    "            keyboard_steering_command = 1\n",
    "        elif key.char == \"a\":\n",
    "            keyboard_steering_command = -1\n",
    "        elif key.char == \"w\":\n",
    "            keyboard_throttle_command = 0.7\n",
    "        elif key.char == \"s\":\n",
    "            keyboard_throttle_command = -0.7\n",
    "            \n",
    "    except:\n",
    "        pass\n",
    "\n",
    "def keyboard_release_callback(key: keyboard.KeyCode):\n",
    "    global keyboard_steering_command, keyboard_throttle_command\n",
    "    \n",
    "    try:\n",
    "        if key.char == \"d\":\n",
    "            keyboard_steering_command = 0.\n",
    "        elif key.char == \"a\":\n",
    "            keyboard_steering_command = 0.\n",
    "        elif key.char == \"w\":\n",
    "            keyboard_throttle_command = 0.\n",
    "        elif key.char == \"s\":\n",
    "            keyboard_throttle_command = 0.\n",
    "            \n",
    "    except:\n",
    "        pass\n",
    "    \n",
    "    \n",
    "listener = keyboard.Listener(on_press=keyboard_press_callback, on_release=keyboard_release_callback)\n",
    "listener.start()\n"
   ]
  },
  {
   "cell_type": "code",
   "execution_count": 17,
   "id": "88bdca66",
   "metadata": {},
   "outputs": [
    {
     "name": "stdout",
     "output_type": "stream",
     "text": [
      "starting DonkeyGym env\n",
      "Setting default: start_delay 5.0\n",
      "Setting default: frame_skip 1\n",
      "Setting default: cam_resolution (120, 160, 3)\n",
      "Setting default: log_level 20\n",
      "Setting default: host localhost\n",
      "Setting default: steer_limit 1.0\n",
      "Setting default: throttle_min 0.0\n",
      "Setting default: throttle_max 1.0\n",
      "donkey subprocess started\n",
      "Found path: /home/animated/Projects/donkeycar/DonkeySimLinux/donkey_sim.x86_64\n"
     ]
    },
    {
     "name": "stderr",
     "output_type": "stream",
     "text": [
      "INFO:gym_donkeycar.core.client:connecting to localhost:9091 \n"
     ]
    },
    {
     "ename": "Exception",
     "evalue": "Could not connect to server. Is it running? If you specified 'remote', then you must start it manually.",
     "output_type": "error",
     "traceback": [
      "\u001b[31m---------------------------------------------------------------------------\u001b[39m",
      "\u001b[31mConnectionRefusedError\u001b[39m                    Traceback (most recent call last)",
      "\u001b[36mFile \u001b[39m\u001b[32m~/miniconda3/envs/donkey/lib/python3.11/site-packages/gym_donkeycar/core/client.py:45\u001b[39m, in \u001b[36mSDClient.connect\u001b[39m\u001b[34m(self)\u001b[39m\n\u001b[32m     44\u001b[39m \u001b[38;5;28;01mtry\u001b[39;00m:\n\u001b[32m---> \u001b[39m\u001b[32m45\u001b[39m     \u001b[38;5;28;43mself\u001b[39;49m\u001b[43m.\u001b[49m\u001b[43ms\u001b[49m\u001b[43m.\u001b[49m\u001b[43mconnect\u001b[49m\u001b[43m(\u001b[49m\u001b[43m(\u001b[49m\u001b[38;5;28;43mself\u001b[39;49m\u001b[43m.\u001b[49m\u001b[43mhost\u001b[49m\u001b[43m,\u001b[49m\u001b[43m \u001b[49m\u001b[38;5;28;43mself\u001b[39;49m\u001b[43m.\u001b[49m\u001b[43mport\u001b[49m\u001b[43m)\u001b[49m\u001b[43m)\u001b[49m\n\u001b[32m     46\u001b[39m \u001b[38;5;28;01mexcept\u001b[39;00m \u001b[38;5;167;01mConnectionRefusedError\u001b[39;00m:\n",
      "\u001b[31mConnectionRefusedError\u001b[39m: [Errno 111] Connection refused",
      "\nDuring handling of the above exception, another exception occurred:\n",
      "\u001b[31mException\u001b[39m                                 Traceback (most recent call last)",
      "\u001b[36mCell\u001b[39m\u001b[36m \u001b[39m\u001b[32mIn[17]\u001b[39m\u001b[32m, line 9\u001b[39m\n\u001b[32m      1\u001b[39m \u001b[38;5;66;03m# ==============================================================================\u001b[39;00m\n\u001b[32m      2\u001b[39m \u001b[38;5;66;03m# SET UP THE DONKEYCAR SIMULATOR\u001b[39;00m\n\u001b[32m      3\u001b[39m \u001b[38;5;66;03m# ==============================================================================\u001b[39;00m\n\u001b[32m      5\u001b[39m donkeycar_simulation_config = {\n\u001b[32m      6\u001b[39m     \u001b[33m\"\u001b[39m\u001b[33mexe_path\u001b[39m\u001b[33m\"\u001b[39m : PATH_TO_SIMULATOR_EXECUTABLE, \n\u001b[32m      7\u001b[39m     **DONKEYCAR_SIMULATION_CONFIG\n\u001b[32m      8\u001b[39m }\n\u001b[32m----> \u001b[39m\u001b[32m9\u001b[39m env = \u001b[43mDonkeyEnvLidar\u001b[49m\u001b[43m(\u001b[49m\u001b[43mlevel\u001b[49m\u001b[43m=\u001b[49m\u001b[43mTRACK_NAME\u001b[49m\u001b[43m,\u001b[49m\u001b[43m \u001b[49m\u001b[43mconf\u001b[49m\u001b[43m=\u001b[49m\u001b[43mdonkeycar_simulation_config\u001b[49m\u001b[43m)\u001b[49m\n\u001b[32m     13\u001b[39m \u001b[38;5;66;03m# ==============================================================================\u001b[39;00m\n\u001b[32m     14\u001b[39m \u001b[38;5;66;03m# RUN THE SIMULATOR WITH KEYBOARD CONTROL AND SAVE OBSERVATIONS AND ACTIONS\u001b[39;00m\n\u001b[32m     15\u001b[39m \u001b[38;5;66;03m# ==============================================================================\u001b[39;00m\n\u001b[32m     16\u001b[39m \n\u001b[32m     17\u001b[39m \u001b[38;5;66;03m# This is the main array that contains data about all of the trajectories, which we will use as training data for the behavioural cloning\u001b[39;00m\n\u001b[32m     18\u001b[39m list_of_trajectories: \u001b[38;5;28mlist\u001b[39m[Trajectory] = []\n",
      "\u001b[36mFile \u001b[39m\u001b[32m~/Projects/donkeycar_imitation_learning/donkey_env_lidar.py:12\u001b[39m, in \u001b[36mDonkeyEnvLidar.__init__\u001b[39m\u001b[34m(self, level, conf)\u001b[39m\n\u001b[32m     11\u001b[39m \u001b[38;5;28;01mdef\u001b[39;00m\u001b[38;5;250m \u001b[39m\u001b[34m__init__\u001b[39m(\u001b[38;5;28mself\u001b[39m, level: \u001b[38;5;28mstr\u001b[39m, conf: Optional[Dict[\u001b[38;5;28mstr\u001b[39m, Any]] = \u001b[38;5;28;01mNone\u001b[39;00m):\n\u001b[32m---> \u001b[39m\u001b[32m12\u001b[39m     \u001b[38;5;28;43msuper\u001b[39;49m\u001b[43m(\u001b[49m\u001b[43m)\u001b[49m\u001b[43m.\u001b[49m\u001b[34;43m__init__\u001b[39;49m\u001b[43m(\u001b[49m\u001b[43mlevel\u001b[49m\u001b[43m,\u001b[49m\u001b[43m \u001b[49m\u001b[43mconf\u001b[49m\u001b[43m)\u001b[49m\n\u001b[32m     14\u001b[39m     number_of_lidar_measurements = \u001b[38;5;28mint\u001b[39m(\u001b[38;5;28mround\u001b[39m(\u001b[32m360\u001b[39m/ conf[\u001b[33m\"\u001b[39m\u001b[33mlidar_config\u001b[39m\u001b[33m\"\u001b[39m][\u001b[33m\"\u001b[39m\u001b[33mdeg_per_sweep_inc\u001b[39m\u001b[33m\"\u001b[39m]))\n\u001b[32m     16\u001b[39m     \u001b[38;5;28mprint\u001b[39m(\u001b[33mf\u001b[39m\u001b[33m\"\u001b[39m\u001b[33mnumber of lidar measurements: \u001b[39m\u001b[38;5;132;01m{\u001b[39;00mnumber_of_lidar_measurements\u001b[38;5;132;01m}\u001b[39;00m\u001b[33m\"\u001b[39m)\n",
      "\u001b[36mFile \u001b[39m\u001b[32m~/miniconda3/envs/donkey/lib/python3.11/site-packages/gym_donkeycar/envs/donkey_env.py:91\u001b[39m, in \u001b[36mDonkeyEnv.__init__\u001b[39m\u001b[34m(self, level, conf)\u001b[39m\n\u001b[32m     88\u001b[39m     time.sleep(conf[\u001b[33m\"\u001b[39m\u001b[33mstart_delay\u001b[39m\u001b[33m\"\u001b[39m])\n\u001b[32m     90\u001b[39m \u001b[38;5;66;03m# start simulation com\u001b[39;00m\n\u001b[32m---> \u001b[39m\u001b[32m91\u001b[39m \u001b[38;5;28mself\u001b[39m.viewer = \u001b[43mDonkeyUnitySimContoller\u001b[49m\u001b[43m(\u001b[49m\u001b[43mconf\u001b[49m\u001b[43m=\u001b[49m\u001b[43mconf\u001b[49m\u001b[43m)\u001b[49m\n\u001b[32m     93\u001b[39m \u001b[38;5;66;03m# Note: for some RL algorithms, it would be better to normalize the action space to [-1, 1]\u001b[39;00m\n\u001b[32m     94\u001b[39m \u001b[38;5;66;03m# and then rescale to proper limtis\u001b[39;00m\n\u001b[32m     95\u001b[39m \u001b[38;5;66;03m# steering and throttle\u001b[39;00m\n\u001b[32m     96\u001b[39m \u001b[38;5;28mself\u001b[39m.action_space = spaces.Box(\n\u001b[32m     97\u001b[39m     low=np.array([-\u001b[38;5;28mfloat\u001b[39m(conf[\u001b[33m\"\u001b[39m\u001b[33msteer_limit\u001b[39m\u001b[33m\"\u001b[39m]), \u001b[38;5;28mfloat\u001b[39m(conf[\u001b[33m\"\u001b[39m\u001b[33mthrottle_min\u001b[39m\u001b[33m\"\u001b[39m])]),\n\u001b[32m     98\u001b[39m     high=np.array([\u001b[38;5;28mfloat\u001b[39m(conf[\u001b[33m\"\u001b[39m\u001b[33msteer_limit\u001b[39m\u001b[33m\"\u001b[39m]), \u001b[38;5;28mfloat\u001b[39m(conf[\u001b[33m\"\u001b[39m\u001b[33mthrottle_max\u001b[39m\u001b[33m\"\u001b[39m])]),\n\u001b[32m     99\u001b[39m     dtype=np.float32,\n\u001b[32m    100\u001b[39m )\n",
      "\u001b[36mFile \u001b[39m\u001b[32m~/miniconda3/envs/donkey/lib/python3.11/site-packages/gym_donkeycar/envs/donkey_sim.py:71\u001b[39m, in \u001b[36mDonkeyUnitySimContoller.__init__\u001b[39m\u001b[34m(self, conf)\u001b[39m\n\u001b[32m     67\u001b[39m \u001b[38;5;28mself\u001b[39m.address = (conf[\u001b[33m\"\u001b[39m\u001b[33mhost\u001b[39m\u001b[33m\"\u001b[39m], conf[\u001b[33m\"\u001b[39m\u001b[33mport\u001b[39m\u001b[33m\"\u001b[39m])\n\u001b[32m     69\u001b[39m \u001b[38;5;28mself\u001b[39m.handler = DonkeyUnitySimHandler(conf=conf)\n\u001b[32m---> \u001b[39m\u001b[32m71\u001b[39m \u001b[38;5;28mself\u001b[39m.client = \u001b[43mSimClient\u001b[49m\u001b[43m(\u001b[49m\u001b[38;5;28;43mself\u001b[39;49m\u001b[43m.\u001b[49m\u001b[43maddress\u001b[49m\u001b[43m,\u001b[49m\u001b[43m \u001b[49m\u001b[38;5;28;43mself\u001b[39;49m\u001b[43m.\u001b[49m\u001b[43mhandler\u001b[49m\u001b[43m)\u001b[49m\n",
      "\u001b[36mFile \u001b[39m\u001b[32m~/miniconda3/envs/donkey/lib/python3.11/site-packages/gym_donkeycar/core/sim_client.py:28\u001b[39m, in \u001b[36mSimClient.__init__\u001b[39m\u001b[34m(self, address, msg_handler)\u001b[39m\n\u001b[32m     25\u001b[39m \u001b[38;5;28mself\u001b[39m.msg_handler = msg_handler\n\u001b[32m     27\u001b[39m \u001b[38;5;66;03m# connect to sim\u001b[39;00m\n\u001b[32m---> \u001b[39m\u001b[32m28\u001b[39m \u001b[38;5;28;43msuper\u001b[39;49m\u001b[43m(\u001b[49m\u001b[43m)\u001b[49m\u001b[43m.\u001b[49m\u001b[34;43m__init__\u001b[39;49m\u001b[43m(\u001b[49m\u001b[43m*\u001b[49m\u001b[43maddress\u001b[49m\u001b[43m)\u001b[49m\n\u001b[32m     30\u001b[39m \u001b[38;5;66;03m# we connect right away\u001b[39;00m\n\u001b[32m     31\u001b[39m msg_handler.on_connect(\u001b[38;5;28mself\u001b[39m)\n",
      "\u001b[36mFile \u001b[39m\u001b[32m~/miniconda3/envs/donkey/lib/python3.11/site-packages/gym_donkeycar/core/client.py:37\u001b[39m, in \u001b[36mSDClient.__init__\u001b[39m\u001b[34m(self, host, port, poll_socket_sleep_time)\u001b[39m\n\u001b[32m     35\u001b[39m \u001b[38;5;28mself\u001b[39m.aborted = \u001b[38;5;28;01mFalse\u001b[39;00m\n\u001b[32m     36\u001b[39m \u001b[38;5;28mself\u001b[39m.s = \u001b[38;5;28;01mNone\u001b[39;00m\n\u001b[32m---> \u001b[39m\u001b[32m37\u001b[39m \u001b[38;5;28;43mself\u001b[39;49m\u001b[43m.\u001b[49m\u001b[43mconnect\u001b[49m\u001b[43m(\u001b[49m\u001b[43m)\u001b[49m\n",
      "\u001b[36mFile \u001b[39m\u001b[32m~/miniconda3/envs/donkey/lib/python3.11/site-packages/gym_donkeycar/core/client.py:47\u001b[39m, in \u001b[36mSDClient.connect\u001b[39m\u001b[34m(self)\u001b[39m\n\u001b[32m     45\u001b[39m     \u001b[38;5;28mself\u001b[39m.s.connect((\u001b[38;5;28mself\u001b[39m.host, \u001b[38;5;28mself\u001b[39m.port))\n\u001b[32m     46\u001b[39m \u001b[38;5;28;01mexcept\u001b[39;00m \u001b[38;5;167;01mConnectionRefusedError\u001b[39;00m:\n\u001b[32m---> \u001b[39m\u001b[32m47\u001b[39m     \u001b[38;5;28;01mraise\u001b[39;00m (\n\u001b[32m     48\u001b[39m         \u001b[38;5;167;01mException\u001b[39;00m(\n\u001b[32m     49\u001b[39m             \u001b[33m\"\u001b[39m\u001b[33mCould not connect to server. Is it running? \u001b[39m\u001b[33m\"\u001b[39m\n\u001b[32m     50\u001b[39m             \u001b[33m\"\u001b[39m\u001b[33mIf you specified \u001b[39m\u001b[33m'\u001b[39m\u001b[33mremote\u001b[39m\u001b[33m'\u001b[39m\u001b[33m, then you must start it manually.\u001b[39m\u001b[33m\"\u001b[39m\n\u001b[32m     51\u001b[39m         )\n\u001b[32m     52\u001b[39m     )\n\u001b[32m     54\u001b[39m \u001b[38;5;66;03m# time.sleep(pause_on_create)\u001b[39;00m\n\u001b[32m     55\u001b[39m \u001b[38;5;28mself\u001b[39m.do_process_msgs = \u001b[38;5;28;01mTrue\u001b[39;00m\n",
      "\u001b[31mException\u001b[39m: Could not connect to server. Is it running? If you specified 'remote', then you must start it manually."
     ]
    }
   ],
   "source": [
    "# ==============================================================================\n",
    "# SET UP THE DONKEYCAR SIMULATOR\n",
    "# ==============================================================================\n",
    "\n",
    "donkeycar_simulation_config = {\n",
    "    \"exe_path\" : PATH_TO_SIMULATOR_EXECUTABLE, \n",
    "    **DONKEYCAR_SIMULATION_CONFIG\n",
    "}\n",
    "env = DonkeyEnvLidar(level=TRACK_NAME, conf=donkeycar_simulation_config)\n",
    "\n",
    "\n",
    "\n",
    "# ==============================================================================\n",
    "# RUN THE SIMULATOR WITH KEYBOARD CONTROL AND SAVE OBSERVATIONS AND ACTIONS\n",
    "# ==============================================================================\n",
    "\n",
    "# This is the main array that contains data about all of the trajectories, which we will use as training data for the behavioural cloning\n",
    "list_of_trajectories: list[Trajectory] = []\n",
    "\n",
    "\n",
    "try:\n",
    "    for lap_index in range(1000):\n",
    "\n",
    "        current_lap_observations = []\n",
    "        current_lap_actions = []\n",
    "        \n",
    "        observation = env.reset()\n",
    "        current_lap_observations.append(observation)\n",
    "                \n",
    "                \n",
    "        for time_step in range(10000000):\n",
    "            \n",
    "            action = np.array([keyboard_steering_command, keyboard_throttle_command])\n",
    "            observation, reward, done, info = env.step(action)\n",
    "            \n",
    "            current_lap_observations.append(observation)\n",
    "            current_lap_actions.append(action)\n",
    "\n",
    "\n",
    "            # If we finished the current lap\n",
    "            if (info[\"lap_count\"] == 1):                    \n",
    "                list_of_trajectories.append(Trajectory(np.array(current_lap_observations), np.array(current_lap_actions), infos=None, terminal=True))  \n",
    "                serialize.save(f\"{IMITATION_LEARNING_DATASET_PATH}\", list_of_trajectories)\n",
    "                break\n",
    "            \n",
    "            # If we hit an object or we go too far off of the track, then we should not record the current lap\n",
    "            if (abs(info[\"cte\"]) > DONKEYCAR_SIMULATION_CONFIG[\"max_cte\"]) or (info[\"hit\"] != \"none\"):\n",
    "                break\n",
    "        \n",
    "except:\n",
    "    pass\n",
    "\n",
    "env.close()"
   ]
  },
  {
   "cell_type": "code",
   "execution_count": null,
   "id": "28ce2a1a",
   "metadata": {},
   "outputs": [
    {
     "name": "stderr",
     "output_type": "stream",
     "text": [
      "0batch [00:00, ?batch/s]"
     ]
    },
    {
     "name": "stdout",
     "output_type": "stream",
     "text": [
      "--------------------------------\n",
      "| batch_size        | 32       |\n",
      "| bc/               |          |\n",
      "|    batch          | 0        |\n",
      "|    ent_loss       | -0.00284 |\n",
      "|    entropy        | 2.84     |\n",
      "|    epoch          | 0        |\n",
      "|    l2_loss        | 0        |\n",
      "|    l2_norm        | 129      |\n",
      "|    loss           | 2.18     |\n",
      "|    neglogp        | 2.18     |\n",
      "|    prob_true_act  | 0.115    |\n",
      "|    samples_so_far | 32       |\n",
      "--------------------------------\n"
     ]
    },
    {
     "name": "stderr",
     "output_type": "stream",
     "text": [
      "65batch [00:01, 36.78batch/s]\n"
     ]
    }
   ],
   "source": [
    "# ==============================================================================\n",
    "# TRAIN AND SAVE A BEHAVIOURAL CLONING ALGORITHM TO A FILE\n",
    "# ==============================================================================\n",
    "    \n",
    "\n",
    "trajectory_list = serialize.load(f\"{IMITATION_LEARNING_DATASET_PATH}\")\n",
    "\n",
    "bc_trainer = bc.BC(\n",
    "    observation_space= env.observation_space,\n",
    "    action_space=env.action_space,\n",
    "    demonstrations=trajectory_list,\n",
    "    policy=PPO(\"MlpPolicy\", env, policy_kwargs=POLICY_KEYWORD_ARGUMENTS).policy,\n",
    "    rng = np.random.default_rng()\n",
    ")\n",
    "\n",
    "\n",
    "bc_trainer.train(n_epochs=5)\n",
    "\n",
    "bc_trainer.policy.save(IMITATION_LEARNING_MODEL_PATH)"
   ]
  },
  {
   "cell_type": "code",
   "execution_count": null,
   "id": "360c7f32",
   "metadata": {},
   "outputs": [
    {
     "name": "stdout",
     "output_type": "stream",
     "text": [
      "Using cpu device\n",
      "Wrapping the env with a `Monitor` wrapper\n",
      "Wrapping the env in a DummyVecEnv.\n"
     ]
    },
    {
     "data": {
      "text/plain": [
       "<All keys matched successfully>"
      ]
     },
     "execution_count": 13,
     "metadata": {},
     "output_type": "execute_result"
    }
   ],
   "source": [
    "# ==============================================================================\n",
    "# LOAD THE BEHAVIOURAL CLONING ALGORITHM FROM A FILE\n",
    "# ==============================================================================\n",
    "\n",
    "saved_variables = torch.load(IMITATION_LEARNING_MODEL_PATH, weights_only=False)\n",
    "\n",
    "model = PPO(\"MlpPolicy\", env, verbose=1, policy_kwargs=POLICY_KEYWORD_ARGUMENTS)\n",
    "model.policy.load_state_dict(saved_variables[\"state_dict\"])\n",
    "\n"
   ]
  },
  {
   "cell_type": "code",
   "execution_count": null,
   "id": "564c63b1",
   "metadata": {},
   "outputs": [
    {
     "name": "stdout",
     "output_type": "stream",
     "text": [
      "starting DonkeyGym env\n",
      "Setting default: start_delay 5.0\n",
      "Setting default: frame_skip 1\n",
      "Setting default: cam_resolution (120, 160, 3)\n",
      "Setting default: log_level 20\n",
      "Setting default: host localhost\n",
      "Setting default: steer_limit 1.0\n",
      "Setting default: throttle_min 0.0\n",
      "Setting default: throttle_max 1.0\n",
      "donkey subprocess started\n",
      "Found path: /home/animated/Projects/donkeycar/DonkeySimLinux/donkey_sim.x86_64\n"
     ]
    },
    {
     "name": "stderr",
     "output_type": "stream",
     "text": [
      "INFO:gym_donkeycar.core.client:connecting to localhost:9091 \n",
      "WARNING:gym_donkeycar.envs.donkey_sim:waiting for sim to start..\n"
     ]
    },
    {
     "name": "stdout",
     "output_type": "stream",
     "text": [
      "loading scene mini_monaco\n"
     ]
    },
    {
     "name": "stderr",
     "output_type": "stream",
     "text": [
      "WARNING:gym_donkeycar.envs.donkey_sim:waiting for sim to start..\n",
      "INFO:gym_donkeycar.envs.donkey_sim:on need car config\n",
      "INFO:gym_donkeycar.envs.donkey_sim:sending car config.\n",
      "INFO:gym_donkeycar.envs.donkey_sim:done sending lidar config., {'deg_per_sweep_inc': 1.0}\n",
      "INFO:gym_donkeycar.envs.donkey_sim:sim started!\n"
     ]
    },
    {
     "name": "stdout",
     "output_type": "stream",
     "text": [
      "number of lidar measurements: 360\n",
      "closing donkey sim subprocess\n"
     ]
    }
   ],
   "source": [
    "# ==============================================================================\n",
    "# SET UP THE DONKEYCAR SIMULATOR\n",
    "# ==============================================================================\n",
    "\n",
    "donkeycar_simulation_config = {\n",
    "    \"exe_path\" : PATH_TO_SIMULATOR_EXECUTABLE, \n",
    "    **DONKEYCAR_SIMULATION_CONFIG\n",
    "}\n",
    "env = DonkeyEnvLidar(level=TRACK_NAME, conf=donkeycar_simulation_config)\n",
    "\n",
    "\n",
    "# ==============================================================================\n",
    "# RUN THE SIMULATOR WITH OUR MODEL TO OBSERVE HOW WELL IT DRIVES\n",
    "# ==============================================================================\n",
    "\n",
    "try:\n",
    "    for lap_index in range(1000):\n",
    "\n",
    "        current_lap_observations = []\n",
    "        current_lap_actions = []\n",
    "        \n",
    "        observation = env.reset()\n",
    "        current_lap_observations.append(observation)\n",
    "                \n",
    "                \n",
    "        for time_step in range(10000000):\n",
    "            \n",
    "            action, _ = model.predict(observation, deterministic=True)\n",
    "            observation, reward, done, info = env.step(action)\n",
    "            \n",
    "            current_lap_observations.append(observation)\n",
    "            current_lap_actions.append(action)\n",
    "\n",
    "\n",
    "            # If we finished the current lap\n",
    "            if (info[\"lap_count\"] == 1):                    \n",
    "                break\n",
    "            \n",
    "            # If we hit an object or we go too far off of the track, then we should not record the current lap\n",
    "            if (abs(info[\"cte\"]) > DONKEYCAR_SIMULATION_CONFIG[\"max_cte\"]) or (info[\"hit\"] != \"none\"):\n",
    "                break\n",
    "\n",
    "except:\n",
    "    pass\n",
    "\n",
    "env.close()\n",
    "        \n",
    "        \n"
   ]
  }
 ],
 "metadata": {
  "kernelspec": {
   "display_name": "donkey",
   "language": "python",
   "name": "python3"
  },
  "language_info": {
   "codemirror_mode": {
    "name": "ipython",
    "version": 3
   },
   "file_extension": ".py",
   "mimetype": "text/x-python",
   "name": "python",
   "nbconvert_exporter": "python",
   "pygments_lexer": "ipython3",
   "version": "3.11.13"
  }
 },
 "nbformat": 4,
 "nbformat_minor": 5
}
