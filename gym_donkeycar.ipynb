{
 "cells": [
  {
   "cell_type": "code",
   "execution_count": null,
   "id": "464437ad",
   "metadata": {},
   "outputs": [
    {
     "name": "stdout",
     "output_type": "stream",
     "text": [
      "pygame 2.6.1 (SDL 2.28.4, Python 3.11.13)\n",
      "Hello from the pygame community. https://www.pygame.org/contribute.html\n"
     ]
    },
    {
     "name": "stderr",
     "output_type": "stream",
     "text": [
      "2025-08-15 10:50:02.518148: I tensorflow/core/util/port.cc:113] oneDNN custom operations are on. You may see slightly different numerical results due to floating-point round-off errors from different computation orders. To turn them off, set the environment variable `TF_ENABLE_ONEDNN_OPTS=0`.\n",
      "2025-08-15 10:50:02.823459: E external/local_xla/xla/stream_executor/cuda/cuda_dnn.cc:9261] Unable to register cuDNN factory: Attempting to register factory for plugin cuDNN when one has already been registered\n",
      "2025-08-15 10:50:02.823622: E external/local_xla/xla/stream_executor/cuda/cuda_fft.cc:607] Unable to register cuFFT factory: Attempting to register factory for plugin cuFFT when one has already been registered\n",
      "2025-08-15 10:50:02.866955: E external/local_xla/xla/stream_executor/cuda/cuda_blas.cc:1515] Unable to register cuBLAS factory: Attempting to register factory for plugin cuBLAS when one has already been registered\n",
      "2025-08-15 10:50:02.911058: I tensorflow/core/platform/cpu_feature_guard.cc:182] This TensorFlow binary is optimized to use available CPU instructions in performance-critical operations.\n",
      "To enable the following instructions: AVX2 AVX_VNNI FMA, in other operations, rebuild TensorFlow with the appropriate compiler flags.\n",
      "2025-08-15 10:50:04.080893: W tensorflow/compiler/tf2tensorrt/utils/py_utils.cc:38] TF-TRT Warning: Could not find TensorRT\n",
      "/home/animated/miniconda3/envs/donkey/lib/python3.11/site-packages/tqdm/auto.py:21: TqdmWarning: IProgress not found. Please update jupyter and ipywidgets. See https://ipywidgets.readthedocs.io/en/stable/user_install.html\n",
      "  from .autonotebook import tqdm as notebook_tqdm\n"
     ]
    }
   ],
   "source": [
    "# ==============================================================================\n",
    "# IMPORTS AND GLOBAL VARIABLES\n",
    "# ==============================================================================\n",
    "\n",
    "from pynput import keyboard\n",
    "from stable_baselines3 import PPO\n",
    "from imitation.algorithms import bc\n",
    "from imitation.data.types import Trajectory\n",
    "from imitation.data import serialize\n",
    "from donkey_env_lidar import DonkeyEnvLidar\n",
    "from stable_baselines3.common.policies import ActorCriticPolicy\n",
    "import numpy as np, torch, yaml\n",
    "\n",
    "# MAIN VARIABLES YOU MIGHT WANT TO EDIT\n",
    "PATH_TO_SIMULATOR_EXECUTABLE = \"C:\\Users\\<PUT YOUR USERNAME HERE>\\Documents\\DonkeySimWin.zip\"\n",
    "IMITATION_LEARNING_DATASET_PATH = \"imitation_learning_datasets/imitation_training_data4\"\n",
    "IMITATION_LEARNING_MODEL_PATH = \"imitation_learning_models/imitation_learning4.zip\"\n",
    "\n",
    "# to learn more about what you can change here, please see: https://stable-baselines3.readthedocs.io/en/master/guide/custom_policy.html\n",
    "# keywords include \"net_arch\", \"activation_fn\", \"features_extractor_class\", \"features_extractor_kwargs\", etc etc etc\n",
    "POLICY_KEYWORD_ARGUMENTS = {\"net_arch\": [32, 32]}\n",
    "\n",
    "\n",
    "\n",
    "# VARIABLES THAT PERTAIN TO VARIOUS SIMULATION CONFIGS. FOR THE MOST PART, YOU SHOULDN'T NEED TO TOUCH THIS\n",
    "TRACK_NAME = \"mini_monaco\"\n",
    "DONKEYCAR_SIMULATION_CONFIG = {\n",
    "    \"port\": 9091,\n",
    "    \"max_cte\": 8,\n",
    "    \"lidar_config\": { \n",
    "        \"deg_per_sweep_inc\": 1.0\n",
    "    }\n",
    "}"
   ]
  },
  {
   "cell_type": "code",
   "execution_count": 2,
   "id": "89fd2cb6",
   "metadata": {},
   "outputs": [],
   "source": [
    "# ==============================================================================\n",
    "# KEYBOARD CALLBACKS\n",
    "# ==============================================================================\n",
    "\n",
    "keyboard_throttle_command = 0.\n",
    "keyboard_steering_command = 0.\n",
    "\n",
    "def keyboard_press_callback(key: keyboard.KeyCode):\n",
    "    global keyboard_steering_command, keyboard_throttle_command\n",
    "    try:\n",
    "        if key.char == \"d\":\n",
    "            keyboard_steering_command = 1\n",
    "        elif key.char == \"a\":\n",
    "            keyboard_steering_command = -1\n",
    "        elif key.char == \"w\":\n",
    "            keyboard_throttle_command = 0.7\n",
    "        elif key.char == \"s\":\n",
    "            keyboard_throttle_command = -0.7\n",
    "            \n",
    "    except:\n",
    "        pass\n",
    "\n",
    "def keyboard_release_callback(key: keyboard.KeyCode):\n",
    "    global keyboard_steering_command, keyboard_throttle_command\n",
    "    \n",
    "    try:\n",
    "        if key.char == \"d\":\n",
    "            keyboard_steering_command = 0.\n",
    "        elif key.char == \"a\":\n",
    "            keyboard_steering_command = 0.\n",
    "        elif key.char == \"w\":\n",
    "            keyboard_throttle_command = 0.\n",
    "        elif key.char == \"s\":\n",
    "            keyboard_throttle_command = 0.\n",
    "            \n",
    "    except:\n",
    "        pass\n",
    "    \n",
    "    \n",
    "listener = keyboard.Listener(on_press=keyboard_press_callback, on_release=keyboard_release_callback)\n",
    "listener.start()\n"
   ]
  },
  {
   "cell_type": "code",
   "execution_count": 3,
   "id": "88bdca66",
   "metadata": {},
   "outputs": [
    {
     "name": "stdout",
     "output_type": "stream",
     "text": [
      "starting DonkeyGym env\n",
      "Setting default: start_delay 5.0\n",
      "Setting default: frame_skip 1\n",
      "Setting default: cam_resolution (120, 160, 3)\n",
      "Setting default: log_level 20\n",
      "Setting default: host localhost\n",
      "Setting default: steer_limit 1.0\n",
      "Setting default: throttle_min 0.0\n",
      "Setting default: throttle_max 1.0\n",
      "donkey subprocess started\n",
      "Found path: /home/animated/Projects/donkeycar/DonkeySimLinux/donkey_sim.x86_64\n"
     ]
    },
    {
     "name": "stderr",
     "output_type": "stream",
     "text": [
      "INFO:gym_donkeycar.core.client:connecting to localhost:9091 \n",
      "WARNING:gym_donkeycar.envs.donkey_sim:waiting for sim to start..\n"
     ]
    },
    {
     "name": "stdout",
     "output_type": "stream",
     "text": [
      "loading scene mini_monaco\n"
     ]
    },
    {
     "name": "stderr",
     "output_type": "stream",
     "text": [
      "WARNING:gym_donkeycar.envs.donkey_sim:waiting for sim to start..\n",
      "INFO:gym_donkeycar.envs.donkey_sim:on need car config\n",
      "INFO:gym_donkeycar.envs.donkey_sim:sending car config.\n",
      "INFO:gym_donkeycar.envs.donkey_sim:done sending lidar config., {'deg_per_sweep_inc': 1.0}\n",
      "INFO:gym_donkeycar.envs.donkey_sim:sim started!\n"
     ]
    },
    {
     "name": "stdout",
     "output_type": "stream",
     "text": [
      "number of lidar measurements: 360\n"
     ]
    },
    {
     "name": "stderr",
     "output_type": "stream",
     "text": [
      "INFO:gym_donkeycar.envs.donkey_sim:New lap time: 21.46 seconds\n",
      "Saving the dataset (1/1 shards): 100%|██████████| 1/1 [00:00<00:00, 67.90 examples/s]\n",
      "INFO:root:Dumped demonstrations to /home/animated/Projects/donkeycar_imitation_learning/imitation_learning_datasets/imitation_training_data4.\n"
     ]
    },
    {
     "name": "stdout",
     "output_type": "stream",
     "text": [
      "closing donkey sim subprocess\n"
     ]
    }
   ],
   "source": [
    "# ==============================================================================\n",
    "# SET UP THE DONKEYCAR SIMULATOR\n",
    "# ==============================================================================\n",
    "\n",
    "donkeycar_simulation_config = {\n",
    "    \"exe_path\" : PATH_TO_SIMULATOR_EXECUTABLE, \n",
    "    **DONKEYCAR_SIMULATION_CONFIG\n",
    "}\n",
    "env = DonkeyEnvLidar(level=TRACK_NAME, conf=donkeycar_simulation_config)\n",
    "\n",
    "\n",
    "\n",
    "# ==============================================================================\n",
    "# RUN THE SIMULATOR WITH KEYBOARD CONTROL AND SAVE OBSERVATIONS AND ACTIONS\n",
    "# ==============================================================================\n",
    "\n",
    "# This is the main array that contains data about all of the trajectories, which we will use as training data for the behavioural cloning\n",
    "list_of_trajectories: list[Trajectory] = []\n",
    "\n",
    "\n",
    "try:\n",
    "    for lap_index in range(1000):\n",
    "\n",
    "        current_lap_observations = []\n",
    "        current_lap_actions = []\n",
    "        \n",
    "        observation = env.reset()\n",
    "        current_lap_observations.append(observation)\n",
    "                \n",
    "                \n",
    "        for time_step in range(10000000):\n",
    "            \n",
    "            action = np.array([keyboard_steering_command, keyboard_throttle_command])\n",
    "            observation, reward, done, info = env.step(action)\n",
    "            \n",
    "            current_lap_observations.append(observation)\n",
    "            current_lap_actions.append(action)\n",
    "\n",
    "\n",
    "            # If we finished the current lap\n",
    "            if (info[\"lap_count\"] == 1):                    \n",
    "                list_of_trajectories.append(Trajectory(np.array(current_lap_observations), np.array(current_lap_actions), infos=None, terminal=True))  \n",
    "                serialize.save(f\"{IMITATION_LEARNING_DATASET_PATH}\", list_of_trajectories)\n",
    "                break\n",
    "            \n",
    "            # If we hit an object or we go too far off of the track, then we should not record the current lap\n",
    "            if (abs(info[\"cte\"]) > DONKEYCAR_SIMULATION_CONFIG[\"max_cte\"]) or (info[\"hit\"] != \"none\"):\n",
    "                break\n",
    "        \n",
    "except:\n",
    "    pass\n",
    "\n",
    "env.close()"
   ]
  },
  {
   "cell_type": "code",
   "execution_count": 4,
   "id": "28ce2a1a",
   "metadata": {},
   "outputs": [
    {
     "name": "stderr",
     "output_type": "stream",
     "text": [
      "0batch [00:00, ?batch/s]"
     ]
    },
    {
     "name": "stdout",
     "output_type": "stream",
     "text": [
      "--------------------------------\n",
      "| batch_size        | 32       |\n",
      "| bc/               |          |\n",
      "|    batch          | 0        |\n",
      "|    ent_loss       | -0.00284 |\n",
      "|    entropy        | 2.84     |\n",
      "|    epoch          | 0        |\n",
      "|    l2_loss        | 0        |\n",
      "|    l2_norm        | 129      |\n",
      "|    loss           | 2.2      |\n",
      "|    neglogp        | 2.21     |\n",
      "|    prob_true_act  | 0.113    |\n",
      "|    samples_so_far | 32       |\n",
      "--------------------------------\n"
     ]
    },
    {
     "name": "stderr",
     "output_type": "stream",
     "text": [
      "65batch [00:01, 36.68batch/s]\n"
     ]
    }
   ],
   "source": [
    "# ==============================================================================\n",
    "# TRAIN AND SAVE A BEHAVIOURAL CLONING ALGORITHM TO A FILE\n",
    "# ==============================================================================\n",
    "    \n",
    "\n",
    "trajectory_list = serialize.load(f\"{IMITATION_LEARNING_DATASET_PATH}\")\n",
    "\n",
    "bc_trainer = bc.BC(\n",
    "    observation_space= env.observation_space,\n",
    "    action_space=env.action_space,\n",
    "    demonstrations=trajectory_list,\n",
    "    policy=PPO(\"MlpPolicy\", env, policy_kwargs=POLICY_KEYWORD_ARGUMENTS).policy,\n",
    "    rng = np.random.default_rng()\n",
    ")\n",
    "\n",
    "\n",
    "bc_trainer.train(n_epochs=5)\n",
    "\n",
    "bc_trainer.policy.save(IMITATION_LEARNING_MODEL_PATH)"
   ]
  },
  {
   "cell_type": "code",
   "execution_count": 5,
   "id": "360c7f32",
   "metadata": {},
   "outputs": [
    {
     "name": "stdout",
     "output_type": "stream",
     "text": [
      "Using cpu device\n",
      "Wrapping the env with a `Monitor` wrapper\n",
      "Wrapping the env in a DummyVecEnv.\n"
     ]
    },
    {
     "data": {
      "text/plain": [
       "<All keys matched successfully>"
      ]
     },
     "execution_count": 5,
     "metadata": {},
     "output_type": "execute_result"
    }
   ],
   "source": [
    "# ==============================================================================\n",
    "# LOAD THE BEHAVIOURAL CLONING ALGORITHM FROM A FILE\n",
    "# ==============================================================================\n",
    "\n",
    "saved_variables = torch.load(IMITATION_LEARNING_MODEL_PATH, weights_only=False)\n",
    "\n",
    "model = PPO(\"MlpPolicy\", env, verbose=1, policy_kwargs=POLICY_KEYWORD_ARGUMENTS)\n",
    "model.policy.load_state_dict(saved_variables[\"state_dict\"])\n",
    "\n"
   ]
  },
  {
   "cell_type": "code",
   "execution_count": 6,
   "id": "564c63b1",
   "metadata": {},
   "outputs": [
    {
     "name": "stdout",
     "output_type": "stream",
     "text": [
      "starting DonkeyGym env\n",
      "Setting default: start_delay 5.0\n",
      "Setting default: frame_skip 1\n",
      "Setting default: cam_resolution (120, 160, 3)\n",
      "Setting default: log_level 20\n",
      "Setting default: host localhost\n",
      "Setting default: steer_limit 1.0\n",
      "Setting default: throttle_min 0.0\n",
      "Setting default: throttle_max 1.0\n",
      "donkey subprocess started\n",
      "Found path: /home/animated/Projects/donkeycar/DonkeySimLinux/donkey_sim.x86_64\n"
     ]
    },
    {
     "name": "stderr",
     "output_type": "stream",
     "text": [
      "INFO:gym_donkeycar.core.client:connecting to localhost:9091 \n",
      "WARNING:gym_donkeycar.envs.donkey_sim:waiting for sim to start..\n"
     ]
    },
    {
     "name": "stdout",
     "output_type": "stream",
     "text": [
      "loading scene mini_monaco\n"
     ]
    },
    {
     "name": "stderr",
     "output_type": "stream",
     "text": [
      "WARNING:gym_donkeycar.envs.donkey_sim:waiting for sim to start..\n",
      "INFO:gym_donkeycar.envs.donkey_sim:on need car config\n",
      "INFO:gym_donkeycar.envs.donkey_sim:sending car config.\n",
      "INFO:gym_donkeycar.envs.donkey_sim:done sending lidar config., {'deg_per_sweep_inc': 1.0}\n",
      "INFO:gym_donkeycar.envs.donkey_sim:sim started!\n"
     ]
    },
    {
     "name": "stdout",
     "output_type": "stream",
     "text": [
      "number of lidar measurements: 360\n",
      "closing donkey sim subprocess\n"
     ]
    }
   ],
   "source": [
    "# ==============================================================================\n",
    "# SET UP THE DONKEYCAR SIMULATOR\n",
    "# ==============================================================================\n",
    "\n",
    "donkeycar_simulation_config = {\n",
    "    \"exe_path\" : PATH_TO_SIMULATOR_EXECUTABLE, \n",
    "    **DONKEYCAR_SIMULATION_CONFIG\n",
    "}\n",
    "env = DonkeyEnvLidar(level=TRACK_NAME, conf=donkeycar_simulation_config)\n",
    "\n",
    "\n",
    "# ==============================================================================\n",
    "# RUN THE SIMULATOR WITH OUR MODEL TO OBSERVE HOW WELL IT DRIVES\n",
    "# ==============================================================================\n",
    "\n",
    "try:\n",
    "    for lap_index in range(1000):\n",
    "\n",
    "        current_lap_observations = []\n",
    "        current_lap_actions = []\n",
    "        \n",
    "        observation = env.reset()\n",
    "        current_lap_observations.append(observation)\n",
    "                \n",
    "                \n",
    "        for time_step in range(10000000):\n",
    "            \n",
    "            action, _ = model.predict(observation, deterministic=True)\n",
    "            observation, reward, done, info = env.step(action)\n",
    "            \n",
    "            current_lap_observations.append(observation)\n",
    "            current_lap_actions.append(action)\n",
    "\n",
    "\n",
    "            # If we finished the current lap\n",
    "            if (info[\"lap_count\"] == 1):                    \n",
    "                break\n",
    "            \n",
    "            # If we hit an object or we go too far off of the track, then we should not record the current lap\n",
    "            if (abs(info[\"cte\"]) > DONKEYCAR_SIMULATION_CONFIG[\"max_cte\"]) or (info[\"hit\"] != \"none\"):\n",
    "                break\n",
    "\n",
    "except:\n",
    "    pass\n",
    "\n",
    "env.close()\n",
    "        \n",
    "        \n"
   ]
  }
 ],
 "metadata": {
  "kernelspec": {
   "display_name": "donkey",
   "language": "python",
   "name": "python3"
  },
  "language_info": {
   "codemirror_mode": {
    "name": "ipython",
    "version": 3
   },
   "file_extension": ".py",
   "mimetype": "text/x-python",
   "name": "python",
   "nbconvert_exporter": "python",
   "pygments_lexer": "ipython3",
   "version": "3.11.13"
  }
 },
 "nbformat": 4,
 "nbformat_minor": 5
}
